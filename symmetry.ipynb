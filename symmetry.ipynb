{
 "cells": [
  {
   "cell_type": "markdown",
   "metadata": {},
   "source": [
    "\n"
   ]
  },
  {
   "cell_type": "code",
   "execution_count": 81,
   "metadata": {},
   "outputs": [
    {
     "name": "stdout",
     "output_type": "stream",
     "text": [
      "Je vais ici travailler avec la maille conventionnelle car celle-ci fait apparaitre toute la symétrie de la maille.\n",
      "Les différentes couleurs sont :\n",
      "- Blanc : Sc\n",
      "- Couleur or : Cu\n",
      "- Rouge : O\n"
     ]
    }
   ],
   "source": [
    "from pymatgen.ext.matproj import MPRester\n",
    "from pymatgen.io.cif import CifWriter\n",
    "from pymatgen import Lattice as lattice\n",
    "from pprint import pprint\n",
    "from IPython.display import Markdown, display\n",
    "def printmd(string):\n",
    "    display(Markdown(string))\n",
    "\n",
    "\n",
    "with MPRester(\"Wn9s8arGa4zDtsqw59e\") as m:\n",
    "    structure = m.get_structure_by_material_id(\"mp-4636\")\n",
    "    w = CifWriter(structure)\n",
    "    w.write_file('mystructure_3.cif')\n",
    "    print('Je vais ici travailler avec la maille conventionnelle car celle-ci fait apparaitre toute la symétrie de la maille.')    \n",
    "    print('Les différentes couleurs sont :')\n",
    "    print('- Blanc : Sc')\n",
    "    print('- Couleur or : Cu')\n",
    "    print('- Rouge : O')"
   ]
  },
  {
   "cell_type": "markdown",
   "metadata": {},
   "source": [
    "![](monimage1.PNG)"
   ]
  },
  {
   "cell_type": "code",
   "execution_count": 77,
   "metadata": {},
   "outputs": [
    {
     "data": {
      "text/markdown": [
       "**Opération de symétrie : réflexion par rapport à un plan miroir.**"
      ],
      "text/plain": [
       "<IPython.core.display.Markdown object>"
      ]
     },
     "metadata": {},
     "output_type": "display_data"
    },
    {
     "name": "stdout",
     "output_type": "stream",
     "text": [
      "Elle envoie tout atome situé en (x,y,z) en la position (-y, -x, z)\n",
      "Cette opération est l élément de symétrie n°8 du fichier CIF, ce plan miroir passe par l origine.\n",
      "\n",
      "\n",
      "La matrice qui lui est associée est la suivante : \n",
      "[[ 0. -1.  0.]\n",
      " [-1.  0.  0.]\n",
      " [ 0.  0.  1.]]\n",
      "Cette matrice est bien sûr multipliée par le vecteur colonne (x, y, z)\n",
      "On a donc : \n"
     ]
    }
   ],
   "source": [
    "printmd('**Opération de symétrie : réflexion par rapport à un plan miroir.**')\n",
    "print('Elle envoie tout atome situé en (x,y,z) en la position (-y, -x, z)')\n",
    "print('Cette opération est l élément de symétrie n°8 du fichier CIF, ce plan miroir passe par l origine.' )\n",
    "print('\\n')\n",
    "print('La matrice qui lui est associée est la suivante : ', )\n",
    "miroir = SymmOp.from_xyz_string('-y, -x, z')\n",
    "print(miroir.rotation_matrix)\n",
    "print('Cette matrice est bien sûr multipliée par le vecteur colonne (x, y, z)')\n",
    "print('On a donc : ')"
   ]
  },
  {
   "cell_type": "markdown",
   "metadata": {},
   "source": [
    "![](monimage7.PNG)"
   ]
  },
  {
   "cell_type": "code",
   "execution_count": 78,
   "metadata": {},
   "outputs": [
    {
     "name": "stdout",
     "output_type": "stream",
     "text": [
      "Son application à un atome de Cu situé en (0.67, 0.33, 0.33) le renvoie en les coordonnées suivantes : \n",
      "[-0.33 -0.67  0.33]\n",
      "L atome ayant subi l opération se retrouve donc à la même position mais dans la maille voisine\n",
      "La figure ci-dessous nous illustre l opération. On peut voir le plan miroir en vert. La flèche de couleur bleue montre le lien entre l atome et son image par l élément de symétrie.\n"
     ]
    }
   ],
   "source": [
    "print('Son application à un atome de Cu situé en (0.67, 0.33, 0.33) le renvoie en les coordonnées suivantes : ')\n",
    "print(miroir.operate((0.67, 0.33, 0.33)))\n",
    "print('L atome ayant subi l opération se retrouve donc à la même position mais dans la maille voisine')\n",
    "print('La figure ci-dessous nous illustre l opération. On peut voir le plan miroir en vert. La flèche de couleur bleue montre le lien entre l atome et son image par l élément de symétrie.')"
   ]
  },
  {
   "cell_type": "markdown",
   "metadata": {},
   "source": [
    "![](monimage2.jpg)"
   ]
  },
  {
   "cell_type": "code",
   "execution_count": 79,
   "metadata": {},
   "outputs": [
    {
     "data": {
      "text/markdown": [
       "**Opération de symétrie : translation**"
      ],
      "text/plain": [
       "<IPython.core.display.Markdown object>"
      ]
     },
     "metadata": {},
     "output_type": "display_data"
    },
    {
     "name": "stdout",
     "output_type": "stream",
     "text": [
      "Elle envoie tout atome situé en (x,y,z) sur la position (x-1/3, y+1/3, z+1/3)\n",
      "Cette opération est l élement n°13 du fichier CIF.\n",
      "La matrice qui lui est associée est la suivante :\n",
      "[[1. 0. 0.]\n",
      " [0. 1. 0.]\n",
      " [0. 0. 1.]]\n",
      "Cette matrice doit être multipliée par le vecteur colonne (x, y, z) et on doit y ajouter les éléments de translation.\n",
      "L opération totale est donc la suivante :\n"
     ]
    }
   ],
   "source": [
    "printmd('**Opération de symétrie : translation**')\n",
    "print('Elle envoie tout atome situé en (x,y,z) sur la position (x-1/3, y+1/3, z+1/3)')\n",
    "print('Cette opération est l élement n°13 du fichier CIF.' )\n",
    "print('La matrice qui lui est associée est la suivante :')\n",
    "translation = SymmOp.from_xyz_string('x-1/3, y+1/3, z+1/3')\n",
    "print(translation.rotation_matrix)\n",
    "print('Cette matrice doit être multipliée par le vecteur colonne (x, y, z) et on doit y ajouter les éléments de translation.')\n",
    "print('L opération totale est donc la suivante :')"
   ]
  },
  {
   "cell_type": "markdown",
   "metadata": {},
   "source": [
    "![](monimage3.PNG)"
   ]
  },
  {
   "cell_type": "code",
   "execution_count": 73,
   "metadata": {},
   "outputs": [
    {
     "name": "stdout",
     "output_type": "stream",
     "text": [
      "Son application sur O situé en (0.67, 0.33, 0.44) est illustée sur la figure ci-dessous. Cette opération envoie l atome à la   position :\n",
      "[0.33666667 0.66333333 0.77333333]\n",
      "On peut voir que la translation appliquée à cet atome l envoie dans une position située dans la même maille qu initialement\n",
      "La flèche jaune représente le vecteur de translation.\n"
     ]
    }
   ],
   "source": [
    "print('Son application sur O situé en (0.67, 0.33, 0.44) est illustée sur la figure ci-dessous. Cette opération envoie l atome à la position :')\n",
    "print(translation.operate((0.67, 0.33, 0.44)))\n",
    "print('On peut voir que la translation appliquée à cet atome l envoie dans une position située dans la même maille qu initialement')\n",
    "print('La flèche jaune représente le vecteur de translation.')"
   ]
  },
  {
   "cell_type": "markdown",
   "metadata": {},
   "source": [
    "![](monimage4.jpg)"
   ]
  },
  {
   "cell_type": "code",
   "execution_count": 74,
   "metadata": {},
   "outputs": [
    {
     "data": {
      "text/markdown": [
       "**Opération de symétrie : Rotation d ordre 3 dans la direction [001]**"
      ],
      "text/plain": [
       "<IPython.core.display.Markdown object>"
      ]
     },
     "metadata": {},
     "output_type": "display_data"
    },
    {
     "name": "stdout",
     "output_type": "stream",
     "text": [
      "Cette opération est l élément de symétrie n°3 du fichier CIF. La direction [001] correspond au vecteur c dans la maille        conventionnelle\n",
      "Cette rotation envoie tout atome situé en (x, y, z) sur une position (-y, x-y, z)\n",
      "La matrice qui lui est associée est la suivante : \n",
      "[[ 0. -1.  0.]\n",
      " [ 1. -1.  0.]\n",
      " [ 0.  0.  1.]]\n",
      "Cette matrice est bien sûr multipliée par le vecteur colonne (x, y, z), on a donc :\n"
     ]
    }
   ],
   "source": [
    "printmd('**Opération de symétrie : Rotation d ordre 3 dans la direction [001]**')\n",
    "print('Cette opération est l élément de symétrie n°3 du fichier CIF. La direction [001] correspond au vecteur c dans la maille conventionnelle')\n",
    "print('Cette rotation envoie tout atome situé en (x, y, z) sur une position (-y, x-y, z)')\n",
    "print('La matrice qui lui est associée est la suivante : ', )\n",
    "rotation = SymmOp.from_xyz_string('-y, x-y, z')\n",
    "print(rotation.rotation_matrix)\n",
    "print('Cette matrice est bien sûr multipliée par le vecteur colonne (x, y, z), on a donc :')\n"
   ]
  },
  {
   "cell_type": "markdown",
   "metadata": {},
   "source": [
    "![](monimage6.PNG)"
   ]
  },
  {
   "cell_type": "code",
   "execution_count": 80,
   "metadata": {},
   "outputs": [
    {
     "name": "stdout",
     "output_type": "stream",
     "text": [
      "Son application à Sc situé en (0.33, 0.67, 1.17) est illustée sur la figure ci-dessous et renvoie l atome sur les coordonées :\n",
      "[-0.67 -0.34  1.17]\n",
      "L atome est donc envoyé dans une maille adjacente.\n",
      "La flèche rouge correspond à l axe de rotation d ordre 3.\n"
     ]
    }
   ],
   "source": [
    "print('Son application à Sc situé en (0.33, 0.67, 1.17) est illustée sur la figure ci-dessous et renvoie l atome sur les coordonées :')\n",
    "print(rotation.operate((0.33, 0.67, 1.17)))  \n",
    "print('L atome est donc envoyé dans une maille adjacente.')\n",
    "print('La flèche rouge correspond à l axe de rotation d ordre 3.')"
   ]
  },
  {
   "cell_type": "markdown",
   "metadata": {},
   "source": [
    "![](monimage5.jpg)"
   ]
  },
  {
   "cell_type": "code",
   "execution_count": null,
   "metadata": {},
   "outputs": [],
   "source": []
  }
 ],
 "metadata": {
  "kernelspec": {
   "display_name": "Python 3",
   "language": "python",
   "name": "python3"
  },
  "language_info": {
   "codemirror_mode": {
    "name": "ipython",
    "version": 3
   },
   "file_extension": ".py",
   "mimetype": "text/x-python",
   "name": "python",
   "nbconvert_exporter": "python",
   "pygments_lexer": "ipython3",
   "version": "3.6.8"
  }
 },
 "nbformat": 4,
 "nbformat_minor": 2
}
