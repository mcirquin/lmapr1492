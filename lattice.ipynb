{
 "cells": [
  {
   "cell_type": "code",
   "execution_count": 12,
   "metadata": {},
   "outputs": [
    {
     "name": "stdout",
     "output_type": "stream",
     "text": [
      "\n",
      "\n"
     ]
    },
    {
     "data": {
      "text/markdown": [
       "**Réseau direct : informations générales** \n"
      ],
      "text/plain": [
       "<IPython.core.display.Markdown object>"
      ]
     },
     "metadata": {},
     "output_type": "display_data"
    },
    {
     "name": "stdout",
     "output_type": "stream",
     "text": [
      "[{'material_id': 'mp-4636',\n",
      "  'structure': Structure Summary\n",
      "Lattice\n",
      "    abc : 6.024407141801179 6.024407142861784 6.024407140127094\n",
      " angles : 31.23809995559344 31.238099926425747 31.238099936544028\n",
      " volume : 52.18431980548851\n",
      "      A : 3.12062525 -0.00256087 5.15317115\n",
      "      B : 1.43675027 2.77020887 5.15317115\n",
      "      C : -0.00421688 -0.00256087 6.02440512\n",
      "PeriodicSite: O (4.0652, 2.4687, 14.5805) [0.8928, 0.8928, 0.8928]\n",
      "PeriodicSite: O (0.4880, 0.2963, 1.7502) [0.1072, 0.1072, 0.1072]\n",
      "PeriodicSite: Sc (2.2766, 1.3825, 8.1654) [0.5000, 0.5000, 0.5000]\n",
      "PeriodicSite: Cu (0.0000, 0.0000, 0.0000) [0.0000, 0.0000, 0.0000]}]\n",
      "\n",
      "\n"
     ]
    },
    {
     "data": {
      "text/markdown": [
       "**Coordonnées des vecteurs de base du réseau direct** \n"
      ],
      "text/plain": [
       "<IPython.core.display.Markdown object>"
      ]
     },
     "metadata": {},
     "output_type": "display_data"
    },
    {
     "name": "stdout",
     "output_type": "stream",
     "text": [
      "3.120625 -0.002561 5.153171\n",
      "1.436750 2.770209 5.153171\n",
      "-0.004217 -0.002561 6.024405\n",
      "\n",
      "\n"
     ]
    },
    {
     "data": {
      "text/markdown": [
       "**Longueurs des vecteurs de base du réseau direct** \n"
      ],
      "text/plain": [
       "<IPython.core.display.Markdown object>"
      ]
     },
     "metadata": {},
     "output_type": "display_data"
    },
    {
     "name": "stdout",
     "output_type": "stream",
     "text": [
      "a = 6.024407141801179\n",
      "b = 6.024407142861784\n",
      "c = 6.024407140127094\n",
      "\n",
      "\n"
     ]
    },
    {
     "data": {
      "text/markdown": [
       "**Angles entre les vecteurs de base du réseau direct** \n"
      ],
      "text/plain": [
       "<IPython.core.display.Markdown object>"
      ]
     },
     "metadata": {},
     "output_type": "display_data"
    },
    {
     "name": "stdout",
     "output_type": "stream",
     "text": [
      "α = 31.23809995559344\n",
      "β = 31.238099926425747\n",
      "γ = 31.238099936544028\n",
      "\n",
      "\n"
     ]
    },
    {
     "data": {
      "text/markdown": [
       "**Réseau réciproque : informations générales** \n"
      ],
      "text/plain": [
       "<IPython.core.display.Markdown object>"
      ]
     },
     "metadata": {},
     "output_type": "display_data"
    },
    {
     "name": "stdout",
     "output_type": "stream",
     "text": [
      "Lattice\n",
      "    abc : 2.266195485453453 2.266195485453453 2.2661954854534523\n",
      " angles : 117.44662737942332 117.44662737942332 117.44662737942335\n",
      " volume : 4.753347635959222\n",
      "      A : 2.0111138360273255 -1.0445396674272682 0.0\n",
      "      B : 0.0 2.266195485453453 0.0\n",
      "      C : -1.7195417452653852 -1.0445396674272671 1.0429549595980723\n",
      "\n",
      "\n"
     ]
    },
    {
     "data": {
      "text/markdown": [
       "**Coordonnées des vecteurs de base du réseau réciproque** \n"
      ],
      "text/plain": [
       "<IPython.core.display.Markdown object>"
      ]
     },
     "metadata": {},
     "output_type": "display_data"
    },
    {
     "name": "stdout",
     "output_type": "stream",
     "text": [
      "2.010990 -1.044779 0.000964\n",
      "0.000269 2.266195 0.000964\n",
      "-1.720395 -1.044779 1.041307\n",
      "\n",
      "\n"
     ]
    },
    {
     "data": {
      "text/markdown": [
       "**Longueurs des vecteurs de bases du réseau réciproque** \n"
      ],
      "text/plain": [
       "<IPython.core.display.Markdown object>"
      ]
     },
     "metadata": {},
     "output_type": "display_data"
    },
    {
     "name": "stdout",
     "output_type": "stream",
     "text": [
      "a = 2.266195485453453\n",
      "b = 2.266195485453453\n",
      "c = 2.2661954854534523\n",
      "\n",
      "\n"
     ]
    },
    {
     "data": {
      "text/markdown": [
       "**Angles entre les vecteurs de bases du réseau réciproque** \n"
      ],
      "text/plain": [
       "<IPython.core.display.Markdown object>"
      ]
     },
     "metadata": {},
     "output_type": "display_data"
    },
    {
     "name": "stdout",
     "output_type": "stream",
     "text": [
      "α = 117.44662737942332\n",
      "β = 117.44662737942332\n",
      "γ = 117.44662737942335\n",
      "\n",
      "\n"
     ]
    },
    {
     "data": {
      "text/markdown": [
       "**Type de maille** \n"
      ],
      "text/plain": [
       "<IPython.core.display.Markdown object>"
      ]
     },
     "metadata": {},
     "output_type": "display_data"
    },
    {
     "name": "stdout",
     "output_type": "stream",
     "text": [
      "'rhombohedral'\n",
      "\n",
      "\n"
     ]
    },
    {
     "data": {
      "text/markdown": [
       "**Système cristallin** \n"
      ],
      "text/plain": [
       "<IPython.core.display.Markdown object>"
      ]
     },
     "metadata": {},
     "output_type": "display_data"
    },
    {
     "name": "stdout",
     "output_type": "stream",
     "text": [
      "'trigonal'\n",
      "\n",
      "\n",
      "On a pu voir que les angles/longueurs des vecteurs de base sont égaux pour le réseau direct, il est donc logique que le système soit trigonal\n",
      "\n",
      "\n"
     ]
    },
    {
     "data": {
      "text/markdown": [
       "**Groupe spatial** \n"
      ],
      "text/plain": [
       "<IPython.core.display.Markdown object>"
      ]
     },
     "metadata": {},
     "output_type": "display_data"
    },
    {
     "name": "stdout",
     "output_type": "stream",
     "text": [
      "[{'spacegroup.symbol': 'R-3m'}]\n",
      "\n",
      "\n"
     ]
    },
    {
     "data": {
      "text/markdown": [
       "**Groupe ponctuel** \n"
      ],
      "text/plain": [
       "<IPython.core.display.Markdown object>"
      ]
     },
     "metadata": {},
     "output_type": "display_data"
    },
    {
     "name": "stdout",
     "output_type": "stream",
     "text": [
      "[{'spacegroup.point_group': '-3m'}]\n",
      "\n",
      "\n"
     ]
    }
   ],
   "source": [
    "from pymatgen.ext.matproj import MPRester\n",
    "from pymatgen.io.cif import CifWriter\n",
    "from pymatgen import Lattice as lattice\n",
    "from pymatgen.symmetry.analyzer import SpacegroupAnalyzer\n",
    "from pprint import pprint\n",
    "from IPython.display import Markdown, display\n",
    "\n",
    "def printmd(string):\n",
    "    display(Markdown(string))\n",
    "\n",
    "\n",
    "with MPRester(\"Wn9s8arGa4zDtsqw59e\") as m:\n",
    "    structure = m.get_structure_by_material_id(\"mp-4636\") #avoir les informations du materiau de Materials project\n",
    "    w = CifWriter(structure)\n",
    "    w.write_file('mystructure_2.cif')\n",
    "    print('\\n')\n",
    "\n",
    "    printmd('**Réseau direct : informations générales** \\n')\n",
    "    pprint(m.get_data(\"mp-4636\", prop=\"structure\"))\n",
    "    print('\\n')\n",
    "    \n",
    "    printmd('**Coordonnées des vecteurs de base du réseau direct** \\n')\n",
    "    print(structure.lattice)\n",
    "    print('\\n')\n",
    "    \n",
    "    printmd('**Longueurs des vecteurs de base du réseau direct** \\n')\n",
    "    print('a =', structure.lattice.lengths[0])\n",
    "    print('b =', structure.lattice.lengths[1])\n",
    "    print('c =', structure.lattice.lengths[2])\n",
    "    print('\\n')\n",
    "    \n",
    "    printmd('**Angles entre les vecteurs de base du réseau direct** \\n')\n",
    "    print('\\u03B1 =', structure.lattice.angles[0])\n",
    "    print('\\u03B2 =', structure.lattice.angles[1])\n",
    "    print('\\u03B3 =', structure.lattice.angles[2])\n",
    "    print('\\n')\n",
    "    \n",
    "    printmd('**Réseau réciproque : informations générales** \\n')\n",
    "    res = lattice.rhombohedral(structure.lattice.lengths[0],structure.lattice.angles[0]) \n",
    "    reseaurec = res.reciprocal_lattice\n",
    "    pprint(reseaurec)\n",
    "    print('\\n')\n",
    "    \n",
    "    printmd('**Coordonnées des vecteurs de base du réseau réciproque** \\n')\n",
    "    print(structure.lattice.reciprocal_lattice)\n",
    "    print('\\n')\n",
    "    \n",
    "    printmd('**Longueurs des vecteurs de bases du réseau réciproque** \\n')\n",
    "    print('a =', reseaurec.lengths[0])\n",
    "    print('b =', reseaurec.lengths[1])\n",
    "    print('c =', reseaurec.lengths[2])\n",
    "    print('\\n')\n",
    "    \n",
    "    printmd('**Angles entre les vecteurs de bases du réseau réciproque** \\n')\n",
    "    print('\\u03B1 =', reseaurec.angles[0])\n",
    "    print('\\u03B2 =', reseaurec.angles[1])\n",
    "    print('\\u03B3 =', reseaurec.angles[2])\n",
    "    print('\\n')\n",
    "    \n",
    "    SgA = SpacegroupAnalyzer(structure)\n",
    "    printmd('**Type de maille** \\n')\n",
    "    pprint(SgA.get_lattice_type())\n",
    "    print('\\n')\n",
    "    \n",
    "    \n",
    "    printmd('**Système cristallin** \\n')\n",
    "    pprint(SgA.get_crystal_system())\n",
    "    print('\\n')\n",
    "    print('On a pu voir que les angles/longueurs des vecteurs de base sont égaux pour le réseau direct, il est donc logique que le système soit trigonal')\n",
    "    print('\\n')\n",
    "    \n",
    "    printmd('**Groupe spatial** \\n')\n",
    "    data = m.query(criteria={\"task_id\" : \"mp-4636\"}, properties=[\"spacegroup.symbol\"])\n",
    "    print(data)\n",
    "    print('\\n')\n",
    "    \n",
    "    printmd('**Groupe ponctuel** \\n')\n",
    "    data1 = m.query(criteria={\"task_id\" : \"mp-4636\"}, properties=[\"spacegroup.point_group\"])\n",
    "    print(data1)\n",
    "    print('\\n')\n",
    "\n",
    "    \n",
    "    "
   ]
  },
  {
   "cell_type": "code",
   "execution_count": null,
   "metadata": {},
   "outputs": [],
   "source": []
  },
  {
   "cell_type": "code",
   "execution_count": null,
   "metadata": {},
   "outputs": [],
   "source": []
  },
  {
   "cell_type": "code",
   "execution_count": null,
   "metadata": {},
   "outputs": [],
   "source": []
  }
 ],
 "metadata": {
  "kernelspec": {
   "display_name": "Python 3",
   "language": "python",
   "name": "python3"
  },
  "language_info": {
   "codemirror_mode": {
    "name": "ipython",
    "version": 3
   },
   "file_extension": ".py",
   "mimetype": "text/x-python",
   "name": "python",
   "nbconvert_exporter": "python",
   "pygments_lexer": "ipython3",
   "version": "3.6.8"
  }
 },
 "nbformat": 4,
 "nbformat_minor": 2
}
